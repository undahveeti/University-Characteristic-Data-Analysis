{
 "cells": [
  {
   "attachments": {},
   "cell_type": "markdown",
   "metadata": {
    "id": "CzSTMCRZvjA4"
   },
   "source": [
    "# CS105 Mini Project - Team 2"
   ]
  },
  {
   "attachments": {},
   "cell_type": "markdown",
   "metadata": {},
   "source": [
    "## Topic"
   ]
  },
  {
   "attachments": {},
   "cell_type": "markdown",
   "metadata": {},
   "source": [
    "Our topic for this mini project focuses on GPA, future prospects after college, why students chose their major, and whether they study alone or in groups. We will analyze the answers to these questions to see if we can find any statistically significant relations between them and find any patterns via creating visualizations and running numerical analyses. "
   ]
  },
  {
   "attachments": {},
   "cell_type": "markdown",
   "metadata": {},
   "source": [
    "## The data we have"
   ]
  },
  {
   "attachments": {},
   "cell_type": "markdown",
   "metadata": {},
   "source": [
    "We will be using the columns \"What is your current cumulative GPA?\", \"Do you prefer studying and/or working in groups?\", \"Do you want to be involved in STEM-based research?\", \"If you're in CS/CE/Data Science/related, why did you pick this path?\" from the Spr23 Combined Questionnaire (Responses) form for our analyses. As of writing, we have 162 data points for each of these columns, not excluding missing entries. \n"
   ]
  },
  {
   "attachments": {},
   "cell_type": "markdown",
   "metadata": {},
   "source": [
    "## What we want to know"
   ]
  },
  {
   "attachments": {},
   "cell_type": "markdown",
   "metadata": {},
   "source": [
    "Ultimately, we'd like to know if GPA is affected by the responses to all other previously mentioned survey questions listed above. Formaly, we want to see if there is a statistically significant relationship between these responses and GPA. We also would like to find patterns in this data by creating visualizations from it, i.e., plotting if students study alone or in groups and reasons for picking CS and seeing if there are any discrepencies."
   ]
  },
  {
   "attachments": {},
   "cell_type": "markdown",
   "metadata": {},
   "source": [
    "## Visualizations and computations"
   ]
  },
  {
   "cell_type": "code",
   "execution_count": 41,
   "metadata": {},
   "outputs": [
    {
     "data": {
      "text/html": [
       "<div>\n",
       "<style scoped>\n",
       "    .dataframe tbody tr th:only-of-type {\n",
       "        vertical-align: middle;\n",
       "    }\n",
       "\n",
       "    .dataframe tbody tr th {\n",
       "        vertical-align: top;\n",
       "    }\n",
       "\n",
       "    .dataframe thead th {\n",
       "        text-align: right;\n",
       "    }\n",
       "</style>\n",
       "<table border=\"1\" class=\"dataframe\">\n",
       "  <thead>\n",
       "    <tr style=\"text-align: right;\">\n",
       "      <th></th>\n",
       "      <th>What is your current cumulative GPA?</th>\n",
       "      <th>If you're in CS/CE/Data Science/related, why did you pick this path?\\r\\n</th>\n",
       "      <th>Do you prefer studying and/or working in groups?</th>\n",
       "      <th>Do you want to be involved in STEM-based research?</th>\n",
       "    </tr>\n",
       "  </thead>\n",
       "  <tbody>\n",
       "    <tr>\n",
       "      <th>0</th>\n",
       "      <td>0</td>\n",
       "      <td>0</td>\n",
       "      <td>0</td>\n",
       "      <td>0</td>\n",
       "    </tr>\n",
       "    <tr>\n",
       "      <th>1</th>\n",
       "      <td>3.0-3.3</td>\n",
       "      <td>Jobs are in high demand</td>\n",
       "      <td>Sometimes</td>\n",
       "      <td>Yes</td>\n",
       "    </tr>\n",
       "    <tr>\n",
       "      <th>2</th>\n",
       "      <td>3.3-3.6</td>\n",
       "      <td>You find topics in this field interesting</td>\n",
       "      <td>No</td>\n",
       "      <td>Yes</td>\n",
       "    </tr>\n",
       "    <tr>\n",
       "      <th>3</th>\n",
       "      <td>3.3-3.6</td>\n",
       "      <td>You find topics in this field interesting, Mor...</td>\n",
       "      <td>Sometimes</td>\n",
       "      <td>No</td>\n",
       "    </tr>\n",
       "    <tr>\n",
       "      <th>4</th>\n",
       "      <td>2.6-3.0</td>\n",
       "      <td>You find topics in this field interesting, Job...</td>\n",
       "      <td>Sometimes</td>\n",
       "      <td>Yes</td>\n",
       "    </tr>\n",
       "    <tr>\n",
       "      <th>...</th>\n",
       "      <td>...</td>\n",
       "      <td>...</td>\n",
       "      <td>...</td>\n",
       "      <td>...</td>\n",
       "    </tr>\n",
       "    <tr>\n",
       "      <th>158</th>\n",
       "      <td>2.6-3.0</td>\n",
       "      <td>You find topics in this field interesting</td>\n",
       "      <td>Yes</td>\n",
       "      <td>Yes</td>\n",
       "    </tr>\n",
       "    <tr>\n",
       "      <th>159</th>\n",
       "      <td>3.3-3.6</td>\n",
       "      <td>Jobs are in high demand, Stable future</td>\n",
       "      <td>Sometimes</td>\n",
       "      <td>Yes</td>\n",
       "    </tr>\n",
       "    <tr>\n",
       "      <th>160</th>\n",
       "      <td>3.3-3.6</td>\n",
       "      <td>More potential for higher salaries</td>\n",
       "      <td>Sometimes</td>\n",
       "      <td>No</td>\n",
       "    </tr>\n",
       "    <tr>\n",
       "      <th>161</th>\n",
       "      <td>3.0-3.3</td>\n",
       "      <td>You find topics in this field interesting, Job...</td>\n",
       "      <td>Yes</td>\n",
       "      <td>No</td>\n",
       "    </tr>\n",
       "    <tr>\n",
       "      <th>162</th>\n",
       "      <td>3.3-3.6</td>\n",
       "      <td>You find topics in this field interesting, Job...</td>\n",
       "      <td>Sometimes</td>\n",
       "      <td>Yes</td>\n",
       "    </tr>\n",
       "  </tbody>\n",
       "</table>\n",
       "<p>163 rows × 4 columns</p>\n",
       "</div>"
      ],
      "text/plain": [
       "    What is your current cumulative GPA?   \n",
       "0                                      0  \\\n",
       "1                                3.0-3.3   \n",
       "2                                3.3-3.6   \n",
       "3                                3.3-3.6   \n",
       "4                                2.6-3.0   \n",
       "..                                   ...   \n",
       "158                              2.6-3.0   \n",
       "159                              3.3-3.6   \n",
       "160                              3.3-3.6   \n",
       "161                              3.0-3.3   \n",
       "162                              3.3-3.6   \n",
       "\n",
       "    If you're in CS/CE/Data Science/related, why did you pick this path?\\r\\n   \n",
       "0                                                    0                        \\\n",
       "1                              Jobs are in high demand                         \n",
       "2            You find topics in this field interesting                         \n",
       "3    You find topics in this field interesting, Mor...                         \n",
       "4    You find topics in this field interesting, Job...                         \n",
       "..                                                 ...                         \n",
       "158          You find topics in this field interesting                         \n",
       "159             Jobs are in high demand, Stable future                         \n",
       "160                 More potential for higher salaries                         \n",
       "161  You find topics in this field interesting, Job...                         \n",
       "162  You find topics in this field interesting, Job...                         \n",
       "\n",
       "    Do you prefer studying and/or working in groups?    \n",
       "0                                                   0  \\\n",
       "1                                           Sometimes   \n",
       "2                                                  No   \n",
       "3                                           Sometimes   \n",
       "4                                           Sometimes   \n",
       "..                                                ...   \n",
       "158                                               Yes   \n",
       "159                                         Sometimes   \n",
       "160                                         Sometimes   \n",
       "161                                               Yes   \n",
       "162                                         Sometimes   \n",
       "\n",
       "    Do you want to be involved in STEM-based research?  \n",
       "0                                                    0  \n",
       "1                                                  Yes  \n",
       "2                                                  Yes  \n",
       "3                                                   No  \n",
       "4                                                  Yes  \n",
       "..                                                 ...  \n",
       "158                                                Yes  \n",
       "159                                                Yes  \n",
       "160                                                 No  \n",
       "161                                                 No  \n",
       "162                                                Yes  \n",
       "\n",
       "[163 rows x 4 columns]"
      ]
     },
     "metadata": {},
     "output_type": "display_data"
    }
   ],
   "source": [
    "#Cleaning the data\n",
    "import pandas as pd\n",
    "df = pd.read_csv(\"data.csv\")\n",
    "df = df[[\"What is your current cumulative GPA?\", \"If you\\'re in CS/CE/Data Science/related, why did you pick this path?\\r\\n\", \"Do you prefer studying and/or working in groups? \", \"Do you want to be involved in STEM-based research?\"]].fillna(0)\n",
    "display(df)"
   ]
  },
  {
   "cell_type": "code",
   "execution_count": null,
   "metadata": {},
   "outputs": [],
   "source": []
  },
  {
   "attachments": {},
   "cell_type": "markdown",
   "metadata": {},
   "source": [
    "## Hypotheses"
   ]
  },
  {
   "attachments": {},
   "cell_type": "markdown",
   "metadata": {},
   "source": [
    "We will present our hypotheses in the form of null hypotheses: <br> - There is no statistically significant relationship between why students chose CS and their GPA <br> - There is no statistically significant relationship between whether students study alone or in groups and their GPA <br> - There is no statistically significant relationship between student involvement in STEM-based research and their GPA"
   ]
  },
  {
   "cell_type": "code",
   "execution_count": null,
   "metadata": {},
   "outputs": [],
   "source": []
  }
 ],
 "metadata": {
  "colab": {
   "provenance": []
  },
  "kernelspec": {
   "display_name": "Python 3 (ipykernel)",
   "language": "python",
   "name": "python3"
  },
  "language_info": {
   "codemirror_mode": {
    "name": "ipython",
    "version": 3
   },
   "file_extension": ".py",
   "mimetype": "text/x-python",
   "name": "python",
   "nbconvert_exporter": "python",
   "pygments_lexer": "ipython3",
   "version": "3.11.1"
  }
 },
 "nbformat": 4,
 "nbformat_minor": 1
}
