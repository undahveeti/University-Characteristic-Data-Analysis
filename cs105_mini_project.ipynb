{
 "cells": [
  {
   "attachments": {},
   "cell_type": "markdown",
   "metadata": {
    "id": "CzSTMCRZvjA4"
   },
   "source": [
    "# CS105 Mini Project - Team 2"
   ]
  },
  {
   "attachments": {},
   "cell_type": "markdown",
   "metadata": {},
   "source": [
    "## Topic"
   ]
  },
  {
   "attachments": {},
   "cell_type": "markdown",
   "metadata": {},
   "source": [
    "Our topic for this mini project focuses on GPA, future prospects after college, why students chose their major, and whether they study alone or in groups. We will analyze the answers to these questions to see if we can find any statistically significant relations between them and find any patterns via creating visualizations and running numerical analyses. "
   ]
  },
  {
   "attachments": {},
   "cell_type": "markdown",
   "metadata": {},
   "source": [
    "## The data we have"
   ]
  },
  {
   "attachments": {},
   "cell_type": "markdown",
   "metadata": {},
   "source": [
    "We will be using the columns \"What is your current cumulative GPA?\", \"Do you prefer studying and/or working in groups?\", \"Do you want to be involved in STEM-based research?\", \"If you're in CS/CE/Data Science/related, why did you pick this path?\" from the Spr23 Combined Questionnaire (Responses) form for our analyses. As of writing, we have 162 data points for each of these columns, not excluding missing entries. \n"
   ]
  },
  {
   "attachments": {},
   "cell_type": "markdown",
   "metadata": {},
   "source": [
    "## What we want to know"
   ]
  },
  {
   "attachments": {},
   "cell_type": "markdown",
   "metadata": {},
   "source": [
    "Ultimately, we'd like to know if GPA is affected by the responses to all other previously mentioned survey questions listed above. Formaly, we want to see if there is a statistically significant relationship between these responses and GPA. We also would like to find patterns in this data by creating visualizations from it, i.e., plotting if students study alone or in groups and reasons for picking CS and seeing if there are any discrepencies."
   ]
  },
  {
   "attachments": {},
   "cell_type": "markdown",
   "metadata": {},
   "source": [
    "## Visualizations and computations"
   ]
  },
  {
   "cell_type": "code",
   "execution_count": 24,
   "metadata": {},
   "outputs": [
    {
     "data": {
      "text/html": [
       "<div>\n",
       "<style scoped>\n",
       "    .dataframe tbody tr th:only-of-type {\n",
       "        vertical-align: middle;\n",
       "    }\n",
       "\n",
       "    .dataframe tbody tr th {\n",
       "        vertical-align: top;\n",
       "    }\n",
       "\n",
       "    .dataframe thead th {\n",
       "        text-align: right;\n",
       "    }\n",
       "</style>\n",
       "<table border=\"1\" class=\"dataframe\">\n",
       "  <thead>\n",
       "    <tr style=\"text-align: right;\">\n",
       "      <th></th>\n",
       "      <th>What is your current cumulative GPA?</th>\n",
       "      <th>If you're in CS/CE/Data Science/related, why did you pick this path?\\r\\n</th>\n",
       "      <th>Do you prefer studying and/or working in groups?</th>\n",
       "      <th>Do you want to be involved in STEM-based research?</th>\n",
       "    </tr>\n",
       "  </thead>\n",
       "  <tbody>\n",
       "    <tr>\n",
       "      <th>1</th>\n",
       "      <td>3.0-3.3</td>\n",
       "      <td>Jobs are in high demand</td>\n",
       "      <td>Sometimes</td>\n",
       "      <td>Yes</td>\n",
       "    </tr>\n",
       "    <tr>\n",
       "      <th>2</th>\n",
       "      <td>3.3-3.6</td>\n",
       "      <td>You find topics in this field interesting</td>\n",
       "      <td>No</td>\n",
       "      <td>Yes</td>\n",
       "    </tr>\n",
       "    <tr>\n",
       "      <th>3</th>\n",
       "      <td>3.3-3.6</td>\n",
       "      <td>You find topics in this field interesting, Mor...</td>\n",
       "      <td>Sometimes</td>\n",
       "      <td>No</td>\n",
       "    </tr>\n",
       "    <tr>\n",
       "      <th>4</th>\n",
       "      <td>2.6-3.0</td>\n",
       "      <td>You find topics in this field interesting, Job...</td>\n",
       "      <td>Sometimes</td>\n",
       "      <td>Yes</td>\n",
       "    </tr>\n",
       "    <tr>\n",
       "      <th>5</th>\n",
       "      <td>3.6-4.0</td>\n",
       "      <td>You find topics in this field interesting, Job...</td>\n",
       "      <td>Sometimes</td>\n",
       "      <td>Yes</td>\n",
       "    </tr>\n",
       "    <tr>\n",
       "      <th>...</th>\n",
       "      <td>...</td>\n",
       "      <td>...</td>\n",
       "      <td>...</td>\n",
       "      <td>...</td>\n",
       "    </tr>\n",
       "    <tr>\n",
       "      <th>157</th>\n",
       "      <td>3.3-3.6</td>\n",
       "      <td>You find topics in this field interesting, Job...</td>\n",
       "      <td>Sometimes</td>\n",
       "      <td>No</td>\n",
       "    </tr>\n",
       "    <tr>\n",
       "      <th>158</th>\n",
       "      <td>2.6-3.0</td>\n",
       "      <td>You find topics in this field interesting</td>\n",
       "      <td>Yes</td>\n",
       "      <td>Yes</td>\n",
       "    </tr>\n",
       "    <tr>\n",
       "      <th>159</th>\n",
       "      <td>3.3-3.6</td>\n",
       "      <td>Jobs are in high demand, Stable future</td>\n",
       "      <td>Sometimes</td>\n",
       "      <td>Yes</td>\n",
       "    </tr>\n",
       "    <tr>\n",
       "      <th>160</th>\n",
       "      <td>3.3-3.6</td>\n",
       "      <td>More potential for higher salaries</td>\n",
       "      <td>Sometimes</td>\n",
       "      <td>No</td>\n",
       "    </tr>\n",
       "    <tr>\n",
       "      <th>161</th>\n",
       "      <td>3.0-3.3</td>\n",
       "      <td>You find topics in this field interesting, Job...</td>\n",
       "      <td>Yes</td>\n",
       "      <td>No</td>\n",
       "    </tr>\n",
       "  </tbody>\n",
       "</table>\n",
       "<p>161 rows × 4 columns</p>\n",
       "</div>"
      ],
      "text/plain": [
       "    What is your current cumulative GPA?   \n",
       "1                                3.0-3.3  \\\n",
       "2                                3.3-3.6   \n",
       "3                                3.3-3.6   \n",
       "4                                2.6-3.0   \n",
       "5                                3.6-4.0   \n",
       "..                                   ...   \n",
       "157                              3.3-3.6   \n",
       "158                              2.6-3.0   \n",
       "159                              3.3-3.6   \n",
       "160                              3.3-3.6   \n",
       "161                              3.0-3.3   \n",
       "\n",
       "    If you're in CS/CE/Data Science/related, why did you pick this path?\\r\\n   \n",
       "1                              Jobs are in high demand                        \\\n",
       "2            You find topics in this field interesting                         \n",
       "3    You find topics in this field interesting, Mor...                         \n",
       "4    You find topics in this field interesting, Job...                         \n",
       "5    You find topics in this field interesting, Job...                         \n",
       "..                                                 ...                         \n",
       "157  You find topics in this field interesting, Job...                         \n",
       "158          You find topics in this field interesting                         \n",
       "159             Jobs are in high demand, Stable future                         \n",
       "160                 More potential for higher salaries                         \n",
       "161  You find topics in this field interesting, Job...                         \n",
       "\n",
       "    Do you prefer studying and/or working in groups?    \n",
       "1                                           Sometimes  \\\n",
       "2                                                  No   \n",
       "3                                           Sometimes   \n",
       "4                                           Sometimes   \n",
       "5                                           Sometimes   \n",
       "..                                                ...   \n",
       "157                                         Sometimes   \n",
       "158                                               Yes   \n",
       "159                                         Sometimes   \n",
       "160                                         Sometimes   \n",
       "161                                               Yes   \n",
       "\n",
       "    Do you want to be involved in STEM-based research?  \n",
       "1                                                  Yes  \n",
       "2                                                  Yes  \n",
       "3                                                   No  \n",
       "4                                                  Yes  \n",
       "5                                                  Yes  \n",
       "..                                                 ...  \n",
       "157                                                 No  \n",
       "158                                                Yes  \n",
       "159                                                Yes  \n",
       "160                                                 No  \n",
       "161                                                 No  \n",
       "\n",
       "[161 rows x 4 columns]"
      ]
     },
     "metadata": {},
     "output_type": "display_data"
    }
   ],
   "source": [
    "#Cleaning the data by removing all unnesessary columns and the first data point that is all null values\n",
    "import pandas as pd\n",
    "import matplotlib as plt\n",
    "df = pd.read_csv(\"data.csv\")\n",
    "df = df[[\"What is your current cumulative GPA?\", \"If you\\'re in CS/CE/Data Science/related, why did you pick this path?\\r\\n\", \"Do you prefer studying and/or working in groups? \", \"Do you want to be involved in STEM-based research?\"]].fillna(0)\n",
    "df = df.iloc[1:162]\n",
    "#pd.options.display.max_rows = None\n",
    "display(df)"
   ]
  },
  {
   "cell_type": "code",
   "execution_count": 25,
   "metadata": {},
   "outputs": [],
   "source": [
    "#Since our gpa values are ranges, we need to convert them to a single value\n",
    "def gpa_range_to_avg(gpa_range):\n",
    "    first, second = map(float, gpa_range.split('-'))\n",
    "    return (first + second) / 2"
   ]
  },
  {
   "cell_type": "code",
   "execution_count": 135,
   "metadata": {},
   "outputs": [
    {
     "data": {
      "text/plain": [
       "<Axes: xlabel='What is your current cumulative GPA?'>"
      ]
     },
     "execution_count": 135,
     "metadata": {},
     "output_type": "execute_result"
    },
    {
     "data": {
      "image/png": "[encoded data removed]",
      "text/plain": [
       "<Figure size 640x480 with 1 Axes>"
      ]
     },
     "metadata": {},
     "output_type": "display_data"
    }
   ],
   "source": [
    "import seaborn as sns\n",
    "\n",
    "df1 = df[['What is your current cumulative GPA?', 'Do you want to be involved in STEM-based research?']]\n",
    "df2 = df1\n",
    "df1 = df1[df1['Do you want to be involved in STEM-based research?'] == 'Yes']\n",
    "df2 = df2[df2['Do you want to be involved in STEM-based research?'] == 'No']\n",
    "df1 = df1.groupby('What is your current cumulative GPA?').count()\n",
    "df2 = df2.groupby('What is your current cumulative GPA?').count()\n",
    "\n",
    "df3 = df1 + df2\n",
    "\n",
    "df1 = df1 / df3\n",
    "df2 = df2 / df3\n",
    "\n",
    "graph = pd.concat([df1, df2], axis = 0)\n",
    "graph.plot.bar()\n",
    "\n",
    "\n",
    "\n",
    "\n"
   ]
  },
  {
   "cell_type": "code",
   "execution_count": 136,
   "metadata": {},
   "outputs": [
    {
     "data": {
      "image/png": "[encoded data removed]",
      "text/plain": [
       "<Figure size 640x480 with 1 Axes>"
      ]
     },
     "metadata": {},
     "output_type": "display_data"
    }
   ],
   "source": [
    "import matplotlib.pyplot as plt\n",
    "\n",
    "df[\"gpa\"] = df[\"What is your current cumulative GPA?\"].apply(gpa_range_to_avg)\n",
    "study_pref_mean = df.groupby(\"Do you prefer studying and/or working in groups? \")[\"gpa\"].mean() \n",
    "\n",
    "plt.bar(study_pref_mean.index, study_pref_mean.values)\n",
    "plt.xlabel(\"Study Preference\")\n",
    "plt.ylabel(\"Average GPA\")\n",
    "plt.title(\"Average GPA by Study Preference\")\n",
    "plt.show()"
   ]
  },
  {
   "attachments": {},
   "cell_type": "markdown",
   "metadata": {},
   "source": [
    "## Hypotheses"
   ]
  },
  {
   "attachments": {},
   "cell_type": "markdown",
   "metadata": {},
   "source": [
    "We will present our hypotheses in the form of null hypotheses: <br> - There is no statistically significant relationship between why students chose CS and their GPA <br> - There is no statistically significant relationship between whether students study alone or in groups and their GPA <br> - There is no statistically significant relationship between student involvement in STEM-based research and their GPA"
   ]
  },
  {
   "cell_type": "code",
   "execution_count": null,
   "metadata": {},
   "outputs": [],
   "source": []
  }
 ],
 "metadata": {
  "colab": {
   "provenance": []
  },
  "kernelspec": {
   "display_name": "Python 3 (ipykernel)",
   "language": "python",
   "name": "python3"
  },
  "language_info": {
   "codemirror_mode": {
    "name": "ipython",
    "version": 3
   },
   "file_extension": ".py",
   "mimetype": "text/x-python",
   "name": "python",
   "nbconvert_exporter": "python",
   "pygments_lexer": "ipython3",
   "version": "3.11.1"
  }
 },
 "nbformat": 4,
 "nbformat_minor": 1
}
